{
 "cells": [
  {
   "cell_type": "code",
   "execution_count": 1,
   "metadata": {},
   "outputs": [],
   "source": [
    "import numpy as np\n",
    "import networkx as nx\n",
    "import matplotlib.pyplot as plt\n",
    "%matplotlib inline\n",
    "\n",
    "import random"
   ]
  },
  {
   "cell_type": "markdown",
   "metadata": {},
   "source": [
    "# Exercise 1"
   ]
  },
  {
   "cell_type": "markdown",
   "metadata": {},
   "source": [
    "## (a) What is infimum of the total capacity that needs to be removed for no feasible unitary flows from o to d to exist?"
   ]
  },
  {
   "cell_type": "markdown",
   "metadata": {},
   "source": [
    "## Menger’s Theorem"
   ]
  },
  {
   "cell_type": "code",
   "execution_count": 2,
   "metadata": {},
   "outputs": [
    {
     "data": {
      "image/png": "[encoded data removed]",
      "text/plain": [
       "<Figure size 432x288 with 1 Axes>"
      ]
     },
     "metadata": {},
     "output_type": "display_data"
    }
   ],
   "source": [
    "G = nx.DiGraph()\n",
    "\n",
    "G.add_edges_from([('o','a'),('o','b'),('a','b'),('a','d'),('b','d')], capacity= 1)\n",
    "\n",
    "pos = {'o':[0,1], 'a':[2,2], 'b':[2,0], 'd':[4,1]}\n",
    "edge_labels = {('o','a'): 'e1',('o','b'): 'e2',('a','b'): 'e3',('a','d'): 'e4',('b','d'): 'e5'}\n",
    "\n",
    "nx.draw(G, pos, with_labels=True)\n",
    "nx.draw_networkx_edge_labels(G, pos, edge_labels=edge_labels)\n",
    "\n",
    "plt.savefig(\"1a.eps\",format='eps')"
   ]
  },
  {
   "cell_type": "markdown",
   "metadata": {},
   "source": [
    "Number of link independent path shows us minimum number of links we need to cut in order to disconnect two nodes. "
   ]
  },
  {
   "cell_type": "code",
   "execution_count": 3,
   "metadata": {},
   "outputs": [
    {
     "data": {
      "text/plain": [
       "2"
      ]
     },
     "execution_count": 3,
     "metadata": {},
     "output_type": "execute_result"
    }
   ],
   "source": [
    "len(list(nx.edge_disjoint_paths(G, 'o', 'd')))"
   ]
  },
  {
   "cell_type": "markdown",
   "metadata": {},
   "source": [
    "## (b) Assume that the link capacities are $$ C_1=C_4=3,\\ \\ \\ C_2=C_3=C_5=2 $$ Where should 1 unit of additional capacity be allocated in order to maximize the feasible throughput from o to d? What is the maximal throughput?"
   ]
  },
  {
   "cell_type": "code",
   "execution_count": 4,
   "metadata": {},
   "outputs": [],
   "source": [
    "# function to set capacities based on array.\n",
    "c = [3,2,2,3,2]\n",
    "def set_capacities(G, c):\n",
    "    nx.set_edge_attributes(G, \n",
    "                       {('o','a'): {\"capacity\": c[0]}, \n",
    "                        ('o','b'): {\"capacity\": c[1]}, \n",
    "                        ('a','b'): {\"capacity\": c[2]},\n",
    "                        ('a','d'): {\"capacity\": c[3]},\n",
    "                        ('b','d'): {\"capacity\": c[4]}})\n",
    "set_capacities(G, c)"
   ]
  },
  {
   "cell_type": "code",
   "execution_count": 5,
   "metadata": {},
   "outputs": [
    {
     "data": {
      "text/plain": [
       "(5, {'o': {'a': 3, 'b': 2}, 'a': {'b': 0, 'd': 3}, 'b': {'d': 2}, 'd': {}})"
      ]
     },
     "execution_count": 5,
     "metadata": {},
     "output_type": "execute_result"
    }
   ],
   "source": [
    "nx.maximum_flow(G,'o','d')"
   ]
  },
  {
   "cell_type": "code",
   "execution_count": 6,
   "metadata": {},
   "outputs": [],
   "source": [
    "max_flow_current = nx.maximum_flow(G,'o','d')[0]"
   ]
  },
  {
   "cell_type": "code",
   "execution_count": 7,
   "metadata": {},
   "outputs": [
    {
     "name": "stdout",
     "output_type": "stream",
     "text": [
      "Capacities:  [4, 2, 2, 3, 2]   Max throughput:  5\n",
      "Positions of extra capacities: [1, 0, 0, 0, 0] \n",
      "\n",
      "Capacities:  [3, 3, 2, 3, 2]   Max throughput:  5\n",
      "Positions of extra capacities: [0, 1, 0, 0, 0] \n",
      "\n",
      "Capacities:  [3, 2, 3, 3, 2]   Max throughput:  5\n",
      "Positions of extra capacities: [0, 0, 1, 0, 0] \n",
      "\n",
      "Capacities:  [3, 2, 2, 4, 2]   Max throughput:  5\n",
      "Positions of extra capacities: [0, 0, 0, 1, 0] \n",
      "\n",
      "Capacities:  [3, 2, 2, 3, 3]   Max throughput:  5\n",
      "Positions of extra capacities: [0, 0, 0, 0, 1] \n",
      "\n",
      "There is no change in max throughput. Extra capacity does not matter!\n"
     ]
    }
   ],
   "source": [
    "max_flow_ = 1 # variable to compare\n",
    "\n",
    "for i in range(5):\n",
    "    cc = c.copy()\n",
    "    cc[i] = cc[i] + 1\n",
    "    \n",
    "    set_capacities(G, cc) # change capacities\n",
    "    m_flow = nx.maximum_flow(G,'o','d')[0] #find maximum throughput\n",
    "    \n",
    "    # get and memorize max flow and its combination. \n",
    "    if m_flow > max_flow_:\n",
    "        max_flow_ = m_flow\n",
    "        max_i = i+1\n",
    "    \n",
    "        max_c = cc\n",
    "\n",
    "    print('Capacities: ',cc,'  Max throughput: ', m_flow)\n",
    "    print('Positions of extra capacities:', list(np.array(cc)-np.array(c)), '\\n')\n",
    "    \n",
    "if max_flow_ == max_flow_current:\n",
    "    print('There is no change in max throughput. Extra capacity does not matter!')\n",
    "else:\n",
    "    print(\"One of the max flow can be obtained if we put extra capacity to\", max_i, \" with flow \", max_flow_, \"(\", max_c, \")\")"
   ]
  },
  {
   "cell_type": "markdown",
   "metadata": {},
   "source": [
    "## (c) Consider link capacities (1). Where should 2 units of additional capacity be allocated in order to maximize the feasible throughput from o to d? Compute all the optimal capacity allocations for this case and the optimal throughput."
   ]
  },
  {
   "cell_type": "code",
   "execution_count": 8,
   "metadata": {
    "scrolled": true
   },
   "outputs": [
    {
     "name": "stdout",
     "output_type": "stream",
     "text": [
      "Capacities:  [5, 2, 2, 3, 2]   Max throughput:  5\n",
      "Positions of extra capacities: [2, 0, 0, 0, 0] \n",
      "\n",
      "Capacities:  [4, 3, 2, 3, 2]   Max throughput:  5\n",
      "Positions of extra capacities: [1, 1, 0, 0, 0] \n",
      "\n",
      "Capacities:  [4, 2, 3, 3, 2]   Max throughput:  5\n",
      "Positions of extra capacities: [1, 0, 1, 0, 0] \n",
      "\n",
      "Capacities:  [4, 2, 2, 4, 2]   Max throughput:  6\n",
      "Positions of extra capacities: [1, 0, 0, 1, 0] \n",
      "\n",
      "Capacities:  [4, 2, 2, 3, 3]   Max throughput:  6\n",
      "Positions of extra capacities: [1, 0, 0, 0, 1] \n",
      "\n",
      "Capacities:  [3, 4, 2, 3, 2]   Max throughput:  5\n",
      "Positions of extra capacities: [0, 2, 0, 0, 0] \n",
      "\n",
      "Capacities:  [3, 3, 3, 3, 2]   Max throughput:  5\n",
      "Positions of extra capacities: [0, 1, 1, 0, 0] \n",
      "\n",
      "Capacities:  [3, 3, 2, 4, 2]   Max throughput:  5\n",
      "Positions of extra capacities: [0, 1, 0, 1, 0] \n",
      "\n",
      "Capacities:  [3, 3, 2, 3, 3]   Max throughput:  6\n",
      "Positions of extra capacities: [0, 1, 0, 0, 1] \n",
      "\n",
      "Capacities:  [3, 2, 4, 3, 2]   Max throughput:  5\n",
      "Positions of extra capacities: [0, 0, 2, 0, 0] \n",
      "\n",
      "Capacities:  [3, 2, 3, 4, 2]   Max throughput:  5\n",
      "Positions of extra capacities: [0, 0, 1, 1, 0] \n",
      "\n",
      "Capacities:  [3, 2, 3, 3, 3]   Max throughput:  5\n",
      "Positions of extra capacities: [0, 0, 1, 0, 1] \n",
      "\n",
      "Capacities:  [3, 2, 2, 5, 2]   Max throughput:  5\n",
      "Positions of extra capacities: [0, 0, 0, 2, 0] \n",
      "\n",
      "Capacities:  [3, 2, 2, 4, 3]   Max throughput:  5\n",
      "Positions of extra capacities: [0, 0, 0, 1, 1] \n",
      "\n",
      "Capacities:  [3, 2, 2, 3, 4]   Max throughput:  5\n",
      "Positions of extra capacities: [0, 0, 0, 0, 2] \n",
      "\n",
      "One of the max flow can be obtained if we put extra capacity to 1 ,  4  with flow  6 ( [4, 2, 2, 4, 2] )\n"
     ]
    }
   ],
   "source": [
    "max_flow_ = 1\n",
    "\n",
    "for i in range(5):\n",
    "    # extra for loop for creating all the combinations\n",
    "    for j in range(i,5):\n",
    "        cc = c.copy()\n",
    "        cc[i] = cc[i] + 1\n",
    "        cc[j] = cc[j] + 1\n",
    "        #print(cc)\n",
    "\n",
    "        set_capacities(G, cc)\n",
    "        m_flow = nx.maximum_flow(G,'o','d')[0]\n",
    "        if m_flow > max_flow_:\n",
    "            max_flow_ = m_flow\n",
    "            max_i = i+1\n",
    "            max_j = j+1\n",
    "            \n",
    "            max_c = cc\n",
    "\n",
    "        print('Capacities: ',cc,'  Max throughput: ', m_flow)\n",
    "        print('Positions of extra capacities:', list(np.array(cc)-np.array(c)), '\\n')\n",
    "    \n",
    "if max_flow_ == max_flow_current:\n",
    "    print('There is no change in max throughput. Extra capacity does not matter!')\n",
    "else:\n",
    "    print(\"One of the max flow can be obtained if we put extra capacity to\", max_i,', ',  max_j, \" with flow \", max_flow_, \"(\", max_c, \")\")"
   ]
  },
  {
   "cell_type": "markdown",
   "metadata": {},
   "source": [
    "## (d) Consider link capacities (1). Where should 4 units of additional capacity be allocated in order to maximize the feasible throughput from o to d? Compute all the optimal capacity allocations for this case. Among the optimal allocations, select the allocation that maximizes the sum of the cut capacities."
   ]
  },
  {
   "cell_type": "code",
   "execution_count": 9,
   "metadata": {},
   "outputs": [
    {
     "name": "stdout",
     "output_type": "stream",
     "text": [
      "Capacities:  [7, 2, 2, 3, 2]   Max throughput:  5\n",
      "Positions of extra capacities: [4, 0, 0, 0, 0] \n",
      "\n",
      "Capacities:  [6, 3, 2, 3, 2]   Max throughput:  5\n",
      "Positions of extra capacities: [3, 1, 0, 0, 0] \n",
      "\n",
      "Capacities:  [6, 2, 3, 3, 2]   Max throughput:  5\n",
      "Positions of extra capacities: [3, 0, 1, 0, 0] \n",
      "\n",
      "Capacities:  [6, 2, 2, 4, 2]   Max throughput:  6\n",
      "Positions of extra capacities: [3, 0, 0, 1, 0] \n",
      "\n",
      "Capacities:  [6, 2, 2, 3, 3]   Max throughput:  6\n",
      "Positions of extra capacities: [3, 0, 0, 0, 1] \n",
      "\n",
      "Capacities:  [5, 4, 2, 3, 2]   Max throughput:  5\n",
      "Positions of extra capacities: [2, 2, 0, 0, 0] \n",
      "\n",
      "Capacities:  [5, 3, 3, 3, 2]   Max throughput:  5\n",
      "Positions of extra capacities: [2, 1, 1, 0, 0] \n",
      "\n",
      "Capacities:  [5, 3, 2, 4, 2]   Max throughput:  6\n",
      "Positions of extra capacities: [2, 1, 0, 1, 0] \n",
      "\n",
      "Capacities:  [5, 3, 2, 3, 3]   Max throughput:  6\n",
      "Positions of extra capacities: [2, 1, 0, 0, 1] \n",
      "\n",
      "Capacities:  [5, 2, 4, 3, 2]   Max throughput:  5\n",
      "Positions of extra capacities: [2, 0, 2, 0, 0] \n",
      "\n",
      "Capacities:  [5, 2, 3, 4, 2]   Max throughput:  6\n",
      "Positions of extra capacities: [2, 0, 1, 1, 0] \n",
      "\n",
      "Capacities:  [5, 2, 3, 3, 3]   Max throughput:  6\n",
      "Positions of extra capacities: [2, 0, 1, 0, 1] \n",
      "\n",
      "Capacities:  [5, 2, 2, 5, 2]   Max throughput:  7\n",
      "Positions of extra capacities: [2, 0, 0, 2, 0] \n",
      "\n",
      "Capacities:  [5, 2, 2, 4, 3]   Max throughput:  7\n",
      "Positions of extra capacities: [2, 0, 0, 1, 1] \n",
      "\n",
      "Capacities:  [5, 2, 2, 3, 4]   Max throughput:  7\n",
      "Positions of extra capacities: [2, 0, 0, 0, 2] \n",
      "\n",
      "Capacities:  [4, 5, 2, 3, 2]   Max throughput:  5\n",
      "Positions of extra capacities: [1, 3, 0, 0, 0] \n",
      "\n",
      "Capacities:  [4, 4, 3, 3, 2]   Max throughput:  5\n",
      "Positions of extra capacities: [1, 2, 1, 0, 0] \n",
      "\n",
      "Capacities:  [4, 4, 2, 4, 2]   Max throughput:  6\n",
      "Positions of extra capacities: [1, 2, 0, 1, 0] \n",
      "\n",
      "Capacities:  [4, 4, 2, 3, 3]   Max throughput:  6\n",
      "Positions of extra capacities: [1, 2, 0, 0, 1] \n",
      "\n",
      "Capacities:  [4, 3, 4, 3, 2]   Max throughput:  5\n",
      "Positions of extra capacities: [1, 1, 2, 0, 0] \n",
      "\n",
      "Capacities:  [4, 3, 3, 4, 2]   Max throughput:  6\n",
      "Positions of extra capacities: [1, 1, 1, 1, 0] \n",
      "\n",
      "Capacities:  [4, 3, 3, 3, 3]   Max throughput:  6\n",
      "Positions of extra capacities: [1, 1, 1, 0, 1] \n",
      "\n",
      "Capacities:  [4, 3, 2, 5, 2]   Max throughput:  6\n",
      "Positions of extra capacities: [1, 1, 0, 2, 0] \n",
      "\n",
      "Capacities:  [4, 3, 2, 4, 3]   Max throughput:  7\n",
      "Positions of extra capacities: [1, 1, 0, 1, 1] \n",
      "\n",
      "Capacities:  [4, 3, 2, 3, 4]   Max throughput:  7\n",
      "Positions of extra capacities: [1, 1, 0, 0, 2] \n",
      "\n",
      "Capacities:  [4, 2, 5, 3, 2]   Max throughput:  5\n",
      "Positions of extra capacities: [1, 0, 3, 0, 0] \n",
      "\n",
      "Capacities:  [4, 2, 4, 4, 2]   Max throughput:  6\n",
      "Positions of extra capacities: [1, 0, 2, 1, 0] \n",
      "\n",
      "Capacities:  [4, 2, 4, 3, 3]   Max throughput:  6\n",
      "Positions of extra capacities: [1, 0, 2, 0, 1] \n",
      "\n",
      "Capacities:  [4, 2, 3, 5, 2]   Max throughput:  6\n",
      "Positions of extra capacities: [1, 0, 1, 2, 0] \n",
      "\n",
      "Capacities:  [4, 2, 3, 4, 3]   Max throughput:  6\n",
      "Positions of extra capacities: [1, 0, 1, 1, 1] \n",
      "\n",
      "Capacities:  [4, 2, 3, 3, 4]   Max throughput:  6\n",
      "Positions of extra capacities: [1, 0, 1, 0, 2] \n",
      "\n",
      "Capacities:  [4, 2, 2, 6, 2]   Max throughput:  6\n",
      "Positions of extra capacities: [1, 0, 0, 3, 0] \n",
      "\n",
      "Capacities:  [4, 2, 2, 5, 3]   Max throughput:  6\n",
      "Positions of extra capacities: [1, 0, 0, 2, 1] \n",
      "\n",
      "Capacities:  [4, 2, 2, 4, 4]   Max throughput:  6\n",
      "Positions of extra capacities: [1, 0, 0, 1, 2] \n",
      "\n",
      "Capacities:  [4, 2, 2, 3, 5]   Max throughput:  6\n",
      "Positions of extra capacities: [1, 0, 0, 0, 3] \n",
      "\n",
      "Capacities:  [3, 6, 2, 3, 2]   Max throughput:  5\n",
      "Positions of extra capacities: [0, 4, 0, 0, 0] \n",
      "\n",
      "Capacities:  [3, 5, 3, 3, 2]   Max throughput:  5\n",
      "Positions of extra capacities: [0, 3, 1, 0, 0] \n",
      "\n",
      "Capacities:  [3, 5, 2, 4, 2]   Max throughput:  5\n",
      "Positions of extra capacities: [0, 3, 0, 1, 0] \n",
      "\n",
      "Capacities:  [3, 5, 2, 3, 3]   Max throughput:  6\n",
      "Positions of extra capacities: [0, 3, 0, 0, 1] \n",
      "\n",
      "Capacities:  [3, 4, 4, 3, 2]   Max throughput:  5\n",
      "Positions of extra capacities: [0, 2, 2, 0, 0] \n",
      "\n",
      "Capacities:  [3, 4, 3, 4, 2]   Max throughput:  5\n",
      "Positions of extra capacities: [0, 2, 1, 1, 0] \n",
      "\n",
      "Capacities:  [3, 4, 3, 3, 3]   Max throughput:  6\n",
      "Positions of extra capacities: [0, 2, 1, 0, 1] \n",
      "\n",
      "Capacities:  [3, 4, 2, 5, 2]   Max throughput:  5\n",
      "Positions of extra capacities: [0, 2, 0, 2, 0] \n",
      "\n",
      "Capacities:  [3, 4, 2, 4, 3]   Max throughput:  6\n",
      "Positions of extra capacities: [0, 2, 0, 1, 1] \n",
      "\n",
      "Capacities:  [3, 4, 2, 3, 4]   Max throughput:  7\n",
      "Positions of extra capacities: [0, 2, 0, 0, 2] \n",
      "\n",
      "Capacities:  [3, 3, 5, 3, 2]   Max throughput:  5\n",
      "Positions of extra capacities: [0, 1, 3, 0, 0] \n",
      "\n",
      "Capacities:  [3, 3, 4, 4, 2]   Max throughput:  5\n",
      "Positions of extra capacities: [0, 1, 2, 1, 0] \n",
      "\n",
      "Capacities:  [3, 3, 4, 3, 3]   Max throughput:  6\n",
      "Positions of extra capacities: [0, 1, 2, 0, 1] \n",
      "\n",
      "Capacities:  [3, 3, 3, 5, 2]   Max throughput:  5\n",
      "Positions of extra capacities: [0, 1, 1, 2, 0] \n",
      "\n",
      "Capacities:  [3, 3, 3, 4, 3]   Max throughput:  6\n",
      "Positions of extra capacities: [0, 1, 1, 1, 1] \n",
      "\n",
      "Capacities:  [3, 3, 3, 3, 4]   Max throughput:  6\n",
      "Positions of extra capacities: [0, 1, 1, 0, 2] \n",
      "\n",
      "Capacities:  [3, 3, 2, 6, 2]   Max throughput:  5\n",
      "Positions of extra capacities: [0, 1, 0, 3, 0] \n",
      "\n",
      "Capacities:  [3, 3, 2, 5, 3]   Max throughput:  6\n",
      "Positions of extra capacities: [0, 1, 0, 2, 1] \n",
      "\n",
      "Capacities:  [3, 3, 2, 4, 4]   Max throughput:  6\n",
      "Positions of extra capacities: [0, 1, 0, 1, 2] \n",
      "\n",
      "Capacities:  [3, 3, 2, 3, 5]   Max throughput:  6\n",
      "Positions of extra capacities: [0, 1, 0, 0, 3] \n",
      "\n",
      "Capacities:  [3, 2, 6, 3, 2]   Max throughput:  5\n",
      "Positions of extra capacities: [0, 0, 4, 0, 0] \n",
      "\n",
      "Capacities:  [3, 2, 5, 4, 2]   Max throughput:  5\n",
      "Positions of extra capacities: [0, 0, 3, 1, 0] \n",
      "\n",
      "Capacities:  [3, 2, 5, 3, 3]   Max throughput:  5\n",
      "Positions of extra capacities: [0, 0, 3, 0, 1] \n",
      "\n",
      "Capacities:  [3, 2, 4, 5, 2]   Max throughput:  5\n",
      "Positions of extra capacities: [0, 0, 2, 2, 0] \n",
      "\n",
      "Capacities:  [3, 2, 4, 4, 3]   Max throughput:  5\n",
      "Positions of extra capacities: [0, 0, 2, 1, 1] \n",
      "\n",
      "Capacities:  [3, 2, 4, 3, 4]   Max throughput:  5\n",
      "Positions of extra capacities: [0, 0, 2, 0, 2] \n",
      "\n",
      "Capacities:  [3, 2, 3, 6, 2]   Max throughput:  5\n",
      "Positions of extra capacities: [0, 0, 1, 3, 0] \n",
      "\n",
      "Capacities:  [3, 2, 3, 5, 3]   Max throughput:  5\n",
      "Positions of extra capacities: [0, 0, 1, 2, 1] \n",
      "\n",
      "Capacities:  [3, 2, 3, 4, 4]   Max throughput:  5\n",
      "Positions of extra capacities: [0, 0, 1, 1, 2] \n",
      "\n",
      "Capacities:  [3, 2, 3, 3, 5]   Max throughput:  5\n",
      "Positions of extra capacities: [0, 0, 1, 0, 3] \n",
      "\n",
      "Capacities:  [3, 2, 2, 7, 2]   Max throughput:  5\n",
      "Positions of extra capacities: [0, 0, 0, 4, 0] \n",
      "\n",
      "Capacities:  [3, 2, 2, 6, 3]   Max throughput:  5\n",
      "Positions of extra capacities: [0, 0, 0, 3, 1] \n",
      "\n",
      "Capacities:  [3, 2, 2, 5, 4]   Max throughput:  5\n",
      "Positions of extra capacities: [0, 0, 0, 2, 2] \n",
      "\n",
      "Capacities:  [3, 2, 2, 4, 5]   Max throughput:  5\n",
      "Positions of extra capacities: [0, 0, 0, 1, 3] \n",
      "\n",
      "Capacities:  [3, 2, 2, 3, 6]   Max throughput:  5\n",
      "Positions of extra capacities: [0, 0, 0, 0, 4] \n",
      "\n",
      "One of the max flow can be obtained if we put extra capacity to 1 ,  1 ,  4 ,  4  with flow  7 ( [5, 2, 2, 5, 2] )\n"
     ]
    }
   ],
   "source": [
    "max_flow_ = 1\n",
    "\n",
    "for i in range(5):\n",
    "    for j in range(i,5):\n",
    "        for m in range(j,5):\n",
    "            for n in range(m,5):\n",
    "                cc = c.copy()\n",
    "                cc[i] = cc[i] + 1\n",
    "                cc[j] = cc[j] + 1\n",
    "                cc[m] = cc[m] + 1\n",
    "                cc[n] = cc[n] + 1\n",
    "                #print(cc)\n",
    "\n",
    "                set_capacities(G, cc)\n",
    "                m_flow = nx.maximum_flow(G,'o','d')[0]\n",
    "                if m_flow > max_flow_:\n",
    "                    max_flow_ = m_flow\n",
    "                    max_i = i+1\n",
    "                    max_j = j+1\n",
    "                    max_m = m+1\n",
    "                    max_n = n+1\n",
    "\n",
    "                    max_c = cc\n",
    "\n",
    "                print('Capacities: ',cc,'  Max throughput: ', m_flow)\n",
    "                print('Positions of extra capacities:', list(np.array(cc)-np.array(c)), '\\n')\n",
    "    \n",
    "if max_flow_ == max_flow_current:\n",
    "    print('There is no change in max throughput. Extra capacity does not matter!')\n",
    "else:\n",
    "    print(\"One of the max flow can be obtained if we put extra capacity to\", max_i,', ',  max_j,', ',  max_m,', ',  max_n, \" with flow \", max_flow_, \"(\", max_c, \")\")"
   ]
  },
  {
   "cell_type": "code",
   "execution_count": null,
   "metadata": {},
   "outputs": [],
   "source": []
  }
 ],
 "metadata": {
  "kernelspec": {
   "display_name": "Python 3",
   "language": "python",
   "name": "python3"
  },
  "language_info": {
   "codemirror_mode": {
    "name": "ipython",
    "version": 3
   },
   "file_extension": ".py",
   "mimetype": "text/x-python",
   "name": "python",
   "nbconvert_exporter": "python",
   "pygments_lexer": "ipython3",
   "version": "3.8.5"
  }
 },
 "nbformat": 4,
 "nbformat_minor": 4
}
